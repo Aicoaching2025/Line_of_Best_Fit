{
  "nbformat": 4,
  "nbformat_minor": 0,
  "metadata": {
    "colab": {
      "provenance": [],
      "authorship_tag": "ABX9TyNG6TR0mnj6bVP03VWs0njK",
      "include_colab_link": true
    },
    "kernelspec": {
      "name": "python3",
      "display_name": "Python 3"
    },
    "language_info": {
      "name": "python"
    }
  },
  "cells": [
    {
      "cell_type": "markdown",
      "metadata": {
        "id": "view-in-github",
        "colab_type": "text"
      },
      "source": [
        "<a href=\"https://colab.research.google.com/github/Aicoaching2025/Line_of_Best_Fit/blob/main/linear-regression.ipynb\" target=\"_parent\"><img src=\"https://colab.research.google.com/assets/colab-badge.svg\" alt=\"Open In Colab\"/></a>"
      ]
    },
    {
      "cell_type": "code",
      "source": [
        "import matplotlib.pyplot as plt  # For plotting\n",
        "import numpy as np  # For numerical operations\n",
        "\n",
        "\n",
        "# Data points\n",
        "datapoints = [(1, 1), (3, 3), (5, 5), (-1, -1)]\n",
        "x_vals, y_vals = zip(*datapoints)  # Separate x and y values\n",
        "\n",
        "# Best line parameters found from the script\n",
        "best_m = 1\n",
        "best_b = 0\n",
        "\n",
        "# Generate x values for plotting the best-fit line\n",
        "x_range = np.linspace(min(x_vals) - 1, max(x_vals) + 1, 100)\n",
        "y_predicted = best_m * x_range + best_b\n",
        "\n",
        "# Plot data points\n",
        "plt.scatter(x_vals, y_vals, color='red', label='Actual Data')\n",
        "\n",
        "# Plot best-fit line\n",
        "plt.plot(x_range, y_predicted, color='blue', linestyle='--', label='Best-Fit Line')\n",
        "\n",
        "# Annotate Errors (Distance from Points to the Line)\n",
        "for x, y in datapoints:\n",
        "    y_on_line = best_m * x + best_b  # Predicted y for this x\n",
        "    plt.plot([x, x], [y, y_on_line], 'k--', alpha=0.6)  # Draw vertical error lines\n",
        "\n",
        "# Labels and title\n",
        "plt.xlabel(\"X values\")\n",
        "plt.ylabel(\"Y values\")\n",
        "plt.title(\"Best-Fit Line for Dataset\")\n",
        "plt.legend()\n",
        "\n",
        "# Show the plot\n",
        "plt.show()\n"
      ],
      "metadata": {
        "colab": {
          "base_uri": "https://localhost:8080/",
          "height": 472
        },
        "id": "U9cJmYRjOZH-",
        "outputId": "24763838-efa1-4be9-e5fc-d83fefa6a742"
      },
      "execution_count": 2,
      "outputs": [
        {
          "output_type": "display_data",
          "data": {
            "text/plain": [
              "<Figure size 640x480 with 1 Axes>"
            ],
            "image/png": "[encoded data removed]"
          },
          "metadata": {}
        }
      ]
    },
    {
      "cell_type": "code",
      "execution_count": 1,
      "metadata": {
        "colab": {
          "base_uri": "https://localhost:8080/"
        },
        "id": "TfdOR67DNxAd",
        "outputId": "212fc3f7-48ca-4ec7-fec2-4eab95889e08"
      },
      "outputs": [
        {
          "output_type": "stream",
          "name": "stdout",
          "text": [
            "True\n",
            "True\n",
            "0\n",
            "1\n",
            "1\n",
            "5\n",
            "Error for m = 0.4, b = 1.6: 4.8\n",
            "Error for m = 0.4, b = 0: 6.0\n",
            "Error for m = 0, b = 1.6: 8.0\n",
            "0\n",
            "4\n",
            "4\n",
            "18\n",
            "Best m: 1.0, Best b: 0.0, Smallest Error: 0.0\n",
            "Predicted height for a ball with width 6: 6.0\n"
          ]
        }
      ],
      "source": [
        "# Task 1\n",
        "# Write your get_y() function here\n",
        "def get_y(m, b, x):\n",
        "    return m * x + b\n",
        "# Uncomment each print() statement to check your work. Each of the following should print True\n",
        "print(get_y(1, 0, 7) == 7)\n",
        "print(get_y(5, 10, 3) == 25)\n",
        "\n",
        "\n",
        "# Tasks 2 and 3\n",
        "# Write your calculate_error() function here\n",
        "def calculate_error(m, b, point):\n",
        "    x_point, y_point = point\n",
        "    y_on_line = get_y(m, b, x_point)\n",
        "    error = abs(y_on_line - y_point)\n",
        "    return error\n",
        "\n",
        "# Task 4\n",
        "# Uncomment each print() statement and check the output against the expected result\n",
        "def calculate_all_error(m, b, points):\n",
        "    total_error = 0\n",
        "    for point in points:\n",
        "        error = calculate_error(m, b, point)\n",
        "        total_error += error\n",
        "    return total_error\n",
        "\n",
        "# this is a line that looks like y = x, so (3, 3) should lie on it. thus, error should be 0:\n",
        "print(calculate_error(1, 0, (3, 3)))\n",
        "\n",
        "# the point (3, 4) should be 1 unit away from the line y = x:\n",
        "print(calculate_error(1, 0, (3, 4)))\n",
        "\n",
        "# the point (3, 3) should be 1 unit away from the line y = x - 1:\n",
        "print(calculate_error(1, -1, (3, 3)))\n",
        "\n",
        "# the point (3, 3) should be 5 units away from the line y = -x + 1:\n",
        "print(calculate_error(-1, 1, (3, 3)))\n",
        "\n",
        "\n",
        "# Task 5\n",
        "# Write your calculate_all_error() function here\n",
        "datapoints = [(1, 2), (2, 0), (3, 4), (4, 4), (5, 3)]\n",
        "\n",
        "\n",
        "# Task 6\n",
        "# Uncomment each print() statement and check the output against the expected result\n",
        "datapoints = [(1, 1), (3, 3), (5, 5), (-1, -1)]\n",
        "for m, b in [(0.4, 1.6), (0.4, 0), (0, 1.6)]:\n",
        "    error = calculate_all_error(m, b, datapoints)\n",
        "    print(f\"Error for m = {m}, b = {b}: {error}\")\n",
        "# every point in this dataset lies upon y=x, so the total error should be zero:\n",
        "print(calculate_all_error(1, 0, datapoints))\n",
        "\n",
        "# every point in this dataset is 1 unit away from y = x + 1, so the total error should be 4:\n",
        "print(calculate_all_error(1, 1, datapoints))\n",
        "\n",
        "# every point in this dataset is 1 unit away from y = x - 1, so the total error should be 4:\n",
        "print(calculate_all_error(1, -1, datapoints))\n",
        "\n",
        "# the points in this dataset are 1, 5, 9, and 3 units away from y = -x + 1, respectively, so total error should be\n",
        "# 1 + 5 + 9 + 3 = 18\n",
        "print(calculate_all_error(-1, 1, datapoints))\n",
        "\n",
        "\n",
        "# Tasks 8 and 9\n",
        "possible_ms = [i / 10 for i in range(-100, 101)]\n",
        "possible_bs = [i / 10 for i in range(-200, 201)]\n",
        "\n",
        "\n",
        "# Task 10\n",
        "smallest_error = float(\"inf\")\n",
        "best_m = 0\n",
        "best_b = 0\n",
        "\n",
        "\n",
        "# Tasks 11 and 12\n",
        "\n",
        "for m in possible_ms:\n",
        "    for b in possible_bs:\n",
        "        error = calculate_all_error(m, b, datapoints)\n",
        "        if error < smallest_error:\n",
        "            smallest_error = error\n",
        "            best_m = m\n",
        "            best_b = b\n",
        "\n",
        "print(f\"Best m: {best_m}, Best b: {best_b}, Smallest Error: {smallest_error}\")\n",
        "\n",
        "# Task 13\n",
        "\n",
        "predicted_height = get_y(best_m, best_b, 6)\n",
        "print(f\"Predicted height for a ball with width 6: {predicted_height}\")\n",
        "\n",
        "\n",
        "\n",
        "\n",
        "\n",
        "\n",
        "\n"
      ]
    }
  ]
}